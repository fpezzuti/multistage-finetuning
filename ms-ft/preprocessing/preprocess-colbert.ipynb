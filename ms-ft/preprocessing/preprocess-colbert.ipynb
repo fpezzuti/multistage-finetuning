{
 "cells": [
  {
   "cell_type": "code",
   "execution_count": 1,
   "metadata": {},
   "outputs": [],
   "source": [
    "import pandas as pd\n",
    "import os\n",
    "import sys\n",
    "from sklearn.model_selection import train_test_split"
   ]
  },
  {
   "cell_type": "code",
   "execution_count": 6,
   "metadata": {},
   "outputs": [],
   "source": [
    "dataset_fname = '__colbert__msmarco-passage-train-judged.run'\n",
    "original_dataset_dir = \"./colbert/\"\n",
    "eval_dataset_dir = \"./colbert-eval/\"\n",
    "train_dataset_dir = \"./colbert-train/\"\n",
    "\n",
    "eval_size = 0.01\n",
    "seed = 42"
   ]
  },
  {
   "cell_type": "code",
   "execution_count": 3,
   "metadata": {},
   "outputs": [
    {
     "name": "stdout",
     "output_type": "stream",
     "text": [
      "                0  1        2    3          4        5\n",
      "0          121352  0  2912791    1  25.984375  ColBERT\n",
      "1          121352  0  7282917    2  25.968750  ColBERT\n",
      "2          121352  0  8527176    3  25.796875  ColBERT\n",
      "3          121352  0  7282918    4  25.656250  ColBERT\n",
      "4          121352  0  7480161    5  25.640625  ColBERT\n",
      "...           ... ..      ...  ...        ...      ...\n",
      "251469495   50393  0  5235223  496  19.015625  ColBERT\n",
      "251469496   50393  0   246839  497  19.000000  ColBERT\n",
      "251469497   50393  0   282941  498  19.000000  ColBERT\n",
      "251469498   50393  0  3417254  499  19.000000  ColBERT\n",
      "251469499   50393  0  6825090  500  19.000000  ColBERT\n",
      "\n",
      "[251469500 rows x 6 columns]\n"
     ]
    }
   ],
   "source": [
    "df = pd.read_csv(original_dataset_dir+dataset_fname, sep='\\t', header=None)\n",
    "print(df)"
   ]
  },
  {
   "cell_type": "code",
   "execution_count": 4,
   "metadata": {},
   "outputs": [],
   "source": [
    "def split_train_eval(to_split_df, eval_size=0.01, seed=42):\n",
    "    qids = to_split_df.iloc[:, 0].unique()\n",
    "    print(f\"Number of queries in the dataset: {len(qids)}\")\n",
    "    # split the dataset in 99%/1% train/eval splits\n",
    "    train_df, eval_df = train_test_split(qids, test_size=eval_size, random_state=seed)\n",
    "\n",
    "    print(f\"Training set shape: {train_df.shape[0]}\")\n",
    "    print(f\"Evaluation set shape: {eval_df.shape[0]}\")\n",
    "    \n",
    "    train_dataset = df[df.iloc[:, 0].isin(train_df)]\n",
    "    print(\"Queries selected in the training dataset: \", int(train_dataset.shape[0]/500))\n",
    "    \n",
    "    eval_dataset = df[df.iloc[:, 0].isin(eval_df)]\n",
    "    print(\"Queries selected in the evaluation dataset: \", int(eval_dataset.shape[0]/500))\n",
    "    \n",
    "    return train_dataset, eval_dataset"
   ]
  },
  {
   "cell_type": "code",
   "execution_count": 7,
   "metadata": {},
   "outputs": [
    {
     "name": "stdout",
     "output_type": "stream",
     "text": [
      "Number of queries in the dataset: 502939\n",
      "Training set shape: 497909\n",
      "Evaluation set shape: 5030\n",
      "Queries selected in the training dataset:  497909\n",
      "Queries selected in the evaluation dataset:  5030\n"
     ]
    }
   ],
   "source": [
    "train_dataset, eval_dataset = split_train_eval(df, eval_size, seed)"
   ]
  },
  {
   "cell_type": "code",
   "execution_count": 8,
   "metadata": {},
   "outputs": [],
   "source": [
    "def save_dataset_to_file(dataset_df, fpath):\n",
    "    dataset_df.to_csv(fpath, index=False, sep='\\t', header=False)"
   ]
  },
  {
   "cell_type": "code",
   "execution_count": 12,
   "metadata": {},
   "outputs": [],
   "source": [
    "save_dataset_to_file(eval_dataset, eval_dataset_dir+dataset_fname)"
   ]
  },
  {
   "cell_type": "code",
   "execution_count": 13,
   "metadata": {},
   "outputs": [],
   "source": [
    "save_dataset_to_file(train_dataset, train_dataset_dir+dataset_fname)"
   ]
  }
 ],
 "metadata": {
  "kernelspec": {
   "display_name": "setenc2",
   "language": "python",
   "name": "python3"
  },
  "language_info": {
   "codemirror_mode": {
    "name": "ipython",
    "version": 3
   },
   "file_extension": ".py",
   "mimetype": "text/x-python",
   "name": "python",
   "nbconvert_exporter": "python",
   "pygments_lexer": "ipython3",
   "version": "3.10.14"
  }
 },
 "nbformat": 4,
 "nbformat_minor": 2
}
